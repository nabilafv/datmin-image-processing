{
 "cells": [
  {
   "cell_type": "code",
   "execution_count": 1,
   "metadata": {},
   "outputs": [
    {
     "name": "stderr",
     "output_type": "stream",
     "text": [
      "Using TensorFlow backend.\n",
      "C:\\Users\\nabil\\AppData\\Roaming\\Python\\Python37\\site-packages\\ipykernel_launcher.py:36: UserWarning: Update your `Conv2D` call to the Keras 2 API: `Conv2D(32, (5, 5), input_shape=(1, 28, 28..., activation=\"relu\", data_format=\"channels_first\", padding=\"valid\")`\n"
     ]
    },
    {
     "name": "stdout",
     "output_type": "stream",
     "text": [
      "Train on 60000 samples, validate on 10000 samples\n",
      "Epoch 1/10\n",
      " - 30s - loss: 0.2519 - accuracy: 0.9274 - val_loss: 0.0869 - val_accuracy: 0.9718\n",
      "Epoch 2/10\n",
      " - 28s - loss: 0.0820 - accuracy: 0.9753 - val_loss: 0.0535 - val_accuracy: 0.9825\n",
      "Epoch 3/10\n",
      " - 27s - loss: 0.0555 - accuracy: 0.9825 - val_loss: 0.0439 - val_accuracy: 0.9858\n",
      "Epoch 4/10\n",
      " - 27s - loss: 0.0432 - accuracy: 0.9868 - val_loss: 0.0451 - val_accuracy: 0.9858\n",
      "Epoch 5/10\n",
      " - 27s - loss: 0.0343 - accuracy: 0.9891 - val_loss: 0.0374 - val_accuracy: 0.9887\n",
      "Epoch 6/10\n",
      " - 27s - loss: 0.0276 - accuracy: 0.9914 - val_loss: 0.0337 - val_accuracy: 0.9893\n",
      "Epoch 7/10\n",
      " - 27s - loss: 0.0228 - accuracy: 0.9927 - val_loss: 0.0365 - val_accuracy: 0.9872\n",
      "Epoch 8/10\n",
      " - 28s - loss: 0.0197 - accuracy: 0.9934 - val_loss: 0.0370 - val_accuracy: 0.9879\n",
      "Epoch 9/10\n",
      " - 26s - loss: 0.0167 - accuracy: 0.9946 - val_loss: 0.0378 - val_accuracy: 0.9877\n",
      "Epoch 10/10\n",
      " - 25s - loss: 0.0139 - accuracy: 0.9958 - val_loss: 0.0316 - val_accuracy: 0.9903\n",
      "Classification loss, accuracy:  [0.03156936006221804, 0.9902999997138977]\n"
     ]
    }
   ],
   "source": [
    "import numpy\n",
    "from keras.datasets import mnist\n",
    "from keras.models import Sequential\n",
    "from keras.layers import Dense\n",
    "from keras.layers import Dropout\n",
    "from keras.layers import Flatten\n",
    "from keras.layers.convolutional import Convolution2D\n",
    "from keras.layers.convolutional import MaxPooling2D\n",
    "from keras.utils import np_utils\n",
    "\n",
    "# fix random seed for reproducibility\n",
    "seed = 7\n",
    "numpy.random.seed(seed)\n",
    "\n",
    "# load data\n",
    "(X_train, y_train), (X_test, y_test) = mnist.load_data()\n",
    "\n",
    "# reshape to be [samples][channels][width][height]\n",
    "X_train = X_train.reshape(X_train.shape[0], 1, 28, 28).astype('float32')\n",
    "X_test = X_test.reshape(X_test.shape[0], 1, 28, 28).astype('float32')\n",
    "\n",
    "\n",
    "# normalize inputs from 0-255 to 0-1\n",
    "X_train = X_train / 255\n",
    "X_test = X_test / 255\n",
    "# one hot encode outputs\n",
    "y_train = np_utils.to_categorical(y_train)\n",
    "y_test = np_utils.to_categorical(y_test)\n",
    "num_classes = y_test.shape[1]\n",
    "\n",
    "\n",
    "\n",
    "def baseline_model():\n",
    "    # create model\n",
    "    model = Sequential()\n",
    "    model.add(Convolution2D(32, (5, 5), border_mode='valid', input_shape=(1, 28, 28), activation='relu', data_format='channels_first'))\n",
    "    model.add(MaxPooling2D(pool_size=(2, 2)))\n",
    "    model.add(Dropout(0.2))\n",
    "    model.add(Flatten())\n",
    "    model.add(Dense(128, activation='relu'))\n",
    "    model.add(Dense(num_classes, activation='softmax'))\n",
    "    # Compile model\n",
    "    model.compile(loss='categorical_crossentropy', optimizer='adam', metrics=['accuracy'])\n",
    "    return model\n",
    "\n",
    "\n",
    "# build the model\n",
    "model = baseline_model()\n",
    "# Fit the model\n",
    "model.fit(X_train, y_train, validation_data=(X_test, y_test), epochs=10, batch_size=200,verbose=2)\n",
    "# Final evaluation of the model\n",
    "scores = model.evaluate(X_test, y_test, verbose=0)\n",
    "print(\"Classification loss, accuracy: \", scores)"
   ]
  }
 ],
 "metadata": {
  "kernelspec": {
   "display_name": "Python 3",
   "language": "python",
   "name": "python3"
  },
  "language_info": {
   "codemirror_mode": {
    "name": "ipython",
    "version": 3
   },
   "file_extension": ".py",
   "mimetype": "text/x-python",
   "name": "python",
   "nbconvert_exporter": "python",
   "pygments_lexer": "ipython3",
   "version": "3.7.2"
  }
 },
 "nbformat": 4,
 "nbformat_minor": 2
}
